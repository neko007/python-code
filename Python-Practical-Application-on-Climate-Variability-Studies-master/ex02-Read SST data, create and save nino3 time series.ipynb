{
 "cells": [
  {
   "cell_type": "code",
   "execution_count": 1,
   "metadata": {},
   "outputs": [
    {
     "data": {
      "text/html": [
       "<style>\n",
       "\n",
       ".rendered_html {\n",
       "    font-family: \"proxima-nova\", helvetica;\n",
       "    font-size: 130%;\n",
       "    line-height: 1.5;\n",
       "}\n",
       "\n",
       ".rendered_html h1 {\n",
       "    margin: 0.25em 0em 0.5em;\n",
       "    color: #015C9C;\n",
       "    text-align: center;\n",
       "    line-height: 1.2; \n",
       "    page-break-before: always;\n",
       "}\n",
       "\n",
       ".rendered_html h2 {\n",
       "    margin: 1.1em 0em 0.5em;\n",
       "    color: #26465D;\n",
       "    line-height: 1.2;\n",
       "}\n",
       "\n",
       ".rendered_html h3 {\n",
       "    margin: 1.1em 0em 0.5em;\n",
       "    color: #002845;\n",
       "    line-height: 1.2;\n",
       "}\n",
       "\n",
       ".rendered_html li {\n",
       "    line-height: 1.5; \n",
       "}\n",
       "\n",
       "/*.prompt {\n",
       "    font-size: 120%; \n",
       "}*/\n",
       "\n",
       ".CodeMirror-lines {\n",
       "    font-size: 110%; \n",
       "}\n",
       "\n",
       "/*.output_area {\n",
       "    font-size: 120%; \n",
       "}*/\n",
       "\n",
       "/*#notebook {\n",
       "    background-image: url('files/images/witewall_3.png');\n",
       "}*/\n",
       "\n",
       "h1.bigtitle {\n",
       "    margin: 4cm 1cm 4cm 1cm;\n",
       "    font-size: 300%;\n",
       "}\n",
       "\n",
       "h3.point {\n",
       "    font-size: 200%;\n",
       "    text-align: center;\n",
       "    margin: 2em 0em 2em 0em;\n",
       "    #26465D\n",
       "}\n",
       "\n",
       ".logo {\n",
       "    margin: 20px 0 20px 0;\n",
       "}\n",
       "\n",
       "a.anchor-link {\n",
       "    display: none;\n",
       "}\n",
       "\n",
       "h1.title { \n",
       "    font-size: 250%;\n",
       "}\n",
       "\n",
       "</style>"
      ],
      "text/plain": [
       "<IPython.core.display.HTML object>"
      ]
     },
     "metadata": {},
     "output_type": "display_data"
    }
   ],
   "source": [
    "%load_ext load_style\n",
    "%load_style talk.css"
   ]
  },
  {
   "cell_type": "markdown",
   "metadata": {},
   "source": [
    "# Read SST data, Create and Save nino3 time series\n",
    "\n",
    "In this notebook, we will finish these tasks\n",
    "* subsample SST data over the nino3 area\n",
    "* calcualte climatology\n",
    "* calculate anomalies\n",
    "* calculate regional mean\n",
    "* plot regional mean SST time series\n",
    "* save data"
   ]
  },
  {
   "cell_type": "markdown",
   "metadata": {},
   "source": [
    "## 1. Load basic libraries"
   ]
  },
  {
   "cell_type": "code",
   "execution_count": 2,
   "metadata": {
    "collapsed": true
   },
   "outputs": [],
   "source": [
    "%matplotlib inline\n",
    "import numpy as np\n",
    "from numpy import nonzero\n",
    "\n",
    "import matplotlib.pyplot as plt         # to generate plots\n",
    "from mpl_toolkits.basemap import Basemap # plot on map projections\n",
    "import matplotlib.dates as mdates\n",
    "\n",
    "import datetime             \n",
    "from netCDF4 import Dataset # http://unidata.github.io/netcdf4-python/\n",
    "from netCDF4 import netcdftime\n",
    "from netcdftime import utime"
   ]
  },
  {
   "cell_type": "markdown",
   "metadata": {},
   "source": [
    "## 2. Set and read input NetCDF file info"
   ]
  },
  {
   "cell_type": "markdown",
   "metadata": {},
   "source": [
    "### 2.1 Read data"
   ]
  },
  {
   "cell_type": "code",
   "execution_count": 3,
   "metadata": {
    "collapsed": true
   },
   "outputs": [],
   "source": [
    "ncfile = 'data\\skt.mon.mean.nc'\n",
    "\n",
    "fh     = Dataset(ncfile, mode='r') # file handle, open in read only mode\n",
    "lon    = fh.variables['lon'][:]\n",
    "lat    = fh.variables['lat'][:]\n",
    "nctime = fh.variables['time'][:]\n",
    "t_unit = fh.variables['time'].units\n",
    "skt    = fh.variables['skt'][:]\n",
    "\n",
    "try :\n",
    "    t_cal = fh.variables['time'].calendar\n",
    "except AttributeError : # Attribute doesn't exist\n",
    "    t_cal = u\"gregorian\" # or standard\n",
    "\n",
    "fh.close() # close the file"
   ]
  },
  {
   "cell_type": "markdown",
   "metadata": {},
   "source": [
    "### 2.2 Parse time"
   ]
  },
  {
   "cell_type": "code",
   "execution_count": 4,
   "metadata": {},
   "outputs": [
    {
     "name": "stdout",
     "output_type": "stream",
     "text": [
      "(687L,)\n"
     ]
    },
    {
     "data": {
      "text/plain": [
       "array([datetime.datetime(1948, 1, 1, 0, 0),\n",
       "       datetime.datetime(1948, 2, 1, 0, 0),\n",
       "       datetime.datetime(1948, 3, 1, 0, 0),\n",
       "       datetime.datetime(1948, 4, 1, 0, 0),\n",
       "       datetime.datetime(1948, 5, 1, 0, 0)], dtype=object)"
      ]
     },
     "execution_count": 4,
     "metadata": {},
     "output_type": "execute_result"
    }
   ],
   "source": [
    "utime = netcdftime.utime(t_unit, calendar = t_cal)\n",
    "datevar = utime.num2date(nctime)\n",
    "print(datevar.shape)\n",
    "\n",
    "datevar[0:5]"
   ]
  },
  {
   "cell_type": "markdown",
   "metadata": {},
   "source": [
    "## 3. Subregion for nino3 area\n",
    "\n",
    "* Lat: -5 ~ 5\n",
    "* Lon: 210 ~ 270"
   ]
  },
  {
   "cell_type": "markdown",
   "metadata": {},
   "source": [
    "### 3.1 Get indices of time, lat and lon over the nino3 area"
   ]
  },
  {
   "cell_type": "code",
   "execution_count": 5,
   "metadata": {
    "collapsed": true
   },
   "outputs": [],
   "source": [
    "idx_lat_n3  = (lat>=-5.0) * (lat<=5.0)\n",
    "idx_lon_n3  = (lon>=210.0) * (lon<=270.0)"
   ]
  },
  {
   "cell_type": "markdown",
   "metadata": {},
   "source": [
    "* time: 1970-1999"
   ]
  },
  {
   "cell_type": "code",
   "execution_count": 6,
   "metadata": {
    "collapsed": true
   },
   "outputs": [],
   "source": [
    "years = np.array([idx.year for idx in datevar])\n",
    "idx_tim_n3 = (years>=1970) * (years<=1999)"
   ]
  },
  {
   "cell_type": "markdown",
   "metadata": {},
   "source": [
    "Get Index using np.nonzero"
   ]
  },
  {
   "cell_type": "code",
   "execution_count": 7,
   "metadata": {},
   "outputs": [
    {
     "data": {
      "text/plain": [
       "array([112, 113, 114, 115, 116, 117, 118, 119, 120, 121, 122, 123, 124,\n",
       "       125, 126, 127, 128, 129, 130, 131, 132, 133, 134, 135, 136, 137,\n",
       "       138, 139, 140, 141, 142, 143, 144], dtype=int64)"
      ]
     },
     "execution_count": 7,
     "metadata": {},
     "output_type": "execute_result"
    }
   ],
   "source": [
    "idxtim = nonzero(idx_tim_n3)[0]\n",
    "#idxlat = nonzero(idx_lat_n3)[0]\n",
    "idxlon = nonzero(idx_lon_n3)[0]\n",
    "idxlon"
   ]
  },
  {
   "cell_type": "markdown",
   "metadata": {},
   "source": [
    "### 3.2 Extract data over nino3 area\n",
    "\n",
    "Use logical indexing is fine for 1D array; however, a little funny for multiple dimension array."
   ]
  },
  {
   "cell_type": "code",
   "execution_count": 8,
   "metadata": {},
   "outputs": [
    {
     "name": "stdout",
     "output_type": "stream",
     "text": [
      "(360L, 6L, 33L)\n",
      "(360L,)\n"
     ]
    }
   ],
   "source": [
    "lat_n3 = lat[idx_lat_n3]\n",
    "lon_n3 = lon[idx_lon_n3]\n",
    "dates_n3  = datevar[idx_tim_n3]\n",
    "\n",
    "skt_n3 = skt[idx_tim_n3, :, :][:,idx_lat_n3,:][:,:,idx_lon_n3]\n",
    "print(skt_n3.shape)\n",
    "print(dates_n3.shape)"
   ]
  },
  {
   "cell_type": "markdown",
   "metadata": {},
   "source": [
    "## 4. Calculate region means"
   ]
  },
  {
   "cell_type": "markdown",
   "metadata": {},
   "source": [
    "### 4.1 Transform skt_n3 from months|lat|lon => 12|year|lat|lon => year|12|lat|lon"
   ]
  },
  {
   "cell_type": "code",
   "execution_count": 9,
   "metadata": {},
   "outputs": [
    {
     "data": {
      "text/plain": [
       "(30L, 12L, 6L, 33L)"
      ]
     },
     "execution_count": 9,
     "metadata": {},
     "output_type": "execute_result"
    }
   ],
   "source": [
    "skt_n3 = np.reshape(skt_n3, (12,30,6,33), order='F')\n",
    "skt_n3 = np.transpose(skt_n3, (1, 0, 2, 3))\n",
    "skt_n3.shape"
   ]
  },
  {
   "cell_type": "markdown",
   "metadata": {
    "collapsed": true
   },
   "source": [
    "### 4.2 Calculate monthly climatology"
   ]
  },
  {
   "cell_type": "code",
   "execution_count": 10,
   "metadata": {},
   "outputs": [
    {
     "data": {
      "text/plain": [
       "(12L, 6L, 33L)"
      ]
     },
     "execution_count": 10,
     "metadata": {},
     "output_type": "execute_result"
    }
   ],
   "source": [
    "clima_skt_n3 = np.mean(skt_n3, axis=0)\n",
    "clima_skt_n3.shape"
   ]
  },
  {
   "cell_type": "markdown",
   "metadata": {},
   "source": [
    "### 4.3 Calculate anomaly of SST over nino3 area"
   ]
  },
  {
   "cell_type": "code",
   "execution_count": 11,
   "metadata": {},
   "outputs": [
    {
     "data": {
      "text/plain": [
       "(360L, 6L, 33L)"
      ]
     },
     "execution_count": 11,
     "metadata": {},
     "output_type": "execute_result"
    }
   ],
   "source": [
    "num_repeats = 30 # 30 years\n",
    "clima_skt_n3 = np.vstack([clima_skt_n3]*num_repeats)\n",
    "clima_skt_n3.shape"
   ]
  },
  {
   "cell_type": "code",
   "execution_count": 12,
   "metadata": {},
   "outputs": [
    {
     "data": {
      "text/plain": [
       "(30L, 12L, 6L, 33L)"
      ]
     },
     "execution_count": 12,
     "metadata": {},
     "output_type": "execute_result"
    }
   ],
   "source": [
    "clima_skt_n3 = np.reshape(clima_skt_n3, (12,30,6,33),order='F')\n",
    "clima_skt_n3 = np.transpose(clima_skt_n3, (1, 0, 2, 3))\n",
    "clima_skt_n3.shape"
   ]
  },
  {
   "cell_type": "code",
   "execution_count": 13,
   "metadata": {},
   "outputs": [
    {
     "data": {
      "text/plain": [
       "(30L, 12L)"
      ]
     },
     "execution_count": 13,
     "metadata": {},
     "output_type": "execute_result"
    }
   ],
   "source": [
    "ssta  = skt_n3-clima_skt_n3\n",
    "ssta2 = np.reshape(ssta,(30,12,6*33), order='F') # 30x12x198\n",
    "ssta3 = np.mean(ssta2, axis=2); # 30x12\n",
    "ssta3.shape"
   ]
  },
  {
   "cell_type": "code",
   "execution_count": 14,
   "metadata": {},
   "outputs": [
    {
     "data": {
      "text/plain": [
       "(360L, 1L)"
      ]
     },
     "execution_count": 14,
     "metadata": {},
     "output_type": "execute_result"
    }
   ],
   "source": [
    "ssta_series = np.reshape(ssta3.T,(12*30,1), order='F'); # 1x360\n",
    "ssta_series.shape"
   ]
  },
  {
   "cell_type": "markdown",
   "metadata": {},
   "source": [
    "## 5. Have a beautiful look"
   ]
  },
  {
   "cell_type": "code",
   "execution_count": 15,
   "metadata": {},
   "outputs": [
    {
     "data": {
      "image/png": "[encoded data removed]",
      "text/plain": [
       "<matplotlib.figure.Figure at 0x8ceaba8>"
      ]
     },
     "metadata": {},
     "output_type": "display_data"
    }
   ],
   "source": [
    "import matplotlib.dates as mdates\n",
    "from matplotlib.dates import MonthLocator, WeekdayLocator, DateFormatter\n",
    "import matplotlib.ticker as ticker\n",
    "\n",
    "fig, ax = plt.subplots(1, 1 , figsize=(15,5))\n",
    "ax.plot(dates_n3, ssta_series)\n",
    "ax.set_ylim((-4,4))\n",
    "\n",
    "#horiz_line_data = np.array([0 for i in np.arange(len(dates_n3))])\n",
    "#ax.plot(dates_n3, horiz_line_data, 'r--') \n",
    "ax.axhline(0, color='r')\n",
    "\n",
    "ax.set_title('NINO3 SSTA 1970-1999')\n",
    "ax.set_ylabel(['$^oC$'])\n",
    "ax.set_xlabel('Date')\n",
    "\n",
    "# rotate and align the tick labels so they look better\n",
    "fig.autofmt_xdate()\n",
    "\n",
    "# use a more precise date string for the x axis locations in the toolbar\n",
    "ax.fmt_xdata = mdates.DateFormatter('%Y')"
   ]
  },
  {
   "cell_type": "markdown",
   "metadata": {},
   "source": [
    "## 6. Save data"
   ]
  },
  {
   "cell_type": "code",
   "execution_count": 16,
   "metadata": {
    "collapsed": true
   },
   "outputs": [],
   "source": [
    "np.savez('data/ssta.nino3.30y.npz', ssta_series=ssta_series)"
   ]
  },
  {
   "cell_type": "markdown",
   "metadata": {
    "collapsed": true
   },
   "source": [
    "## References\n",
    "\n",
    "http://unidata.github.io/netcdf4-python/\n",
    "\n",
    "John D. Hunter. Matplotlib: A 2D Graphics Environment, Computing in Science & Engineering, 9, 90-95 (2007), DOI:10.1109/MCSE.2007.55\n",
    "\n",
    "Stéfan van der Walt, S. Chris Colbert and Gaël Varoquaux. The NumPy Array: A Structure for Efficient Numerical Computation, Computing in Science & Engineering, 13, 22-30 (2011), DOI:10.1109/MCSE.2011.37\n",
    "\n",
    "Kalnay et al.,The NCEP/NCAR 40-year reanalysis project, Bull. Amer. Meteor. Soc., 77, 437-470, 1996."
   ]
  },
  {
   "cell_type": "code",
   "execution_count": null,
   "metadata": {
    "collapsed": true
   },
   "outputs": [],
   "source": []
  }
 ],
 "metadata": {
  "anaconda-cloud": {},
  "kernelspec": {
   "display_name": "Python [default]",
   "language": "python",
   "name": "python2"
  },
  "language_info": {
   "codemirror_mode": {
    "name": "ipython",
    "version": 2
   },
   "file_extension": ".py",
   "mimetype": "text/x-python",
   "name": "python",
   "nbconvert_exporter": "python",
   "pygments_lexer": "ipython2",
   "version": "2.7.12"
  }
 },
 "nbformat": 4,
 "nbformat_minor": 2
}
